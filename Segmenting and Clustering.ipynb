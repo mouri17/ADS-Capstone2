{
    "nbformat_minor": 1, 
    "cells": [
        {
            "source": "<a href=\"https://cognitiveclass.ai\"><img src = \"https://ibm.box.com/shared/static/9gegpsmnsoo25ikkbl4qzlvlyjbgxs5x.png\" width = 400> </a>\n\n<h1 align=center><font size = 5>Segmenting and Clustering Neighborhoods in Toronto</font></h1>", 
            "cell_type": "markdown", 
            "metadata": {}
        }, 
        {
            "source": "## Introduction\n\nIn this assignment, it is required to explore, segment, and cluster the neighborhoods in the city of Toronto.\nFor the Toronto neighborhood data, a Wikipedia page exists that has all the information we need to explore and cluster the neighborhoods in Toronto. Here we will scrape the Wikipedia page and wrangle the data, clean it, then read it into a pandas dataframe and **explore** more. So let's get started! ", 
            "cell_type": "markdown", 
            "metadata": {}
        }, 
        {
            "source": "###### let's import the python libraries and all dependencies we need to start exploring our data", 
            "cell_type": "markdown", 
            "metadata": {}
        }, 
        {
            "source": "import numpy as np \nimport pandas as pd\npd.set_option('display.max_columns', None)\npd.set_option('display.max_rows', None)\nimport json \nfrom geopy.geocoders import Nominatim\nimport requests\nfrom pandas.io.json import json_normalize\nimport matplotlib.cm as cm\nimport matplotlib.colors as colors\nfrom sklearn.cluster import KMeans\n!conda install -c conda-forge folium=0.5.0 --yes\nimport folium # plotting library\nprint('Folium installed')\nprint('Libraries imported.')\nimport lxml.html as lh", 
            "cell_type": "code", 
            "metadata": {}, 
            "outputs": [
                {
                    "output_type": "stream", 
                    "name": "stdout", 
                    "text": "Fetching package metadata .............\nSolving package specifications: .\n\n# All requested packages already installed.\n# packages in environment at /opt/conda/envs/DSX-Python35:\n#\nfolium                    0.5.0                      py_0    conda-forge\nFolium installed\nLibraries imported.\n"
                }
            ], 
            "execution_count": 10
        }, 
        {
            "source": "### Scraping\n\nwe will scrape the Wikipedia page, https://en.wikipedia.org/wiki/List_of_postal_codes_of_Canada:_M", 
            "cell_type": "markdown", 
            "metadata": {}
        }, 
        {
            "source": "url = 'https://en.wikipedia.org/wiki/List_of_postal_codes_of_Canada:_M'\nr = requests.get(url)\nprint(url)", 
            "cell_type": "code", 
            "metadata": {}, 
            "outputs": [
                {
                    "output_type": "stream", 
                    "name": "stdout", 
                    "text": "https://en.wikipedia.org/wiki/List_of_postal_codes_of_Canada:_M\n"
                }
            ], 
            "execution_count": 11
        }, 
        {
            "source": "**Creating the dataframe** that consist three columns: **PostalCode**, **Borough**, and **Neighborhood**", 
            "cell_type": "markdown", 
            "metadata": {}
        }, 
        {
            "source": "In order to refine the data, we will only process the cells that have an assigned borough and ignore cells with a borough that is Not assigned.", 
            "cell_type": "markdown", 
            "metadata": {}
        }, 
        {
            "source": "soup = BeautifulSoup(r.content, 'html.parser')\ntable = soup.find('table')\ntrows = table.find_all('tr')\nrows = []\nfor tr in trows:\n    i = tr.find_all('td')\n    if i:\n        rows.append(i)        \nlst = []\nfor row in rows:\n    postalcode = row[0].text.rstrip()\n    borough = row[1].text.rstrip()\n    neighborhood = row[2].text.rstrip()\n    if borough != 'Not assigned':\n        if neighborhood == 'Not assigned':\n            neighborhood = borough\n        lst.append([postalcode, borough, neighborhood])\n", 
            "cell_type": "code", 
            "metadata": {}, 
            "outputs": [], 
            "execution_count": 26
        }, 
        {
            "source": "cols = ['PostalCode', 'Borough', 'Neighborhood']\ndf = pd.DataFrame(lst, columns=cols)\nprint(df.shape)", 
            "cell_type": "code", 
            "metadata": {}, 
            "outputs": [
                {
                    "output_type": "stream", 
                    "name": "stdout", 
                    "text": "(211, 3)\n"
                }
            ], 
            "execution_count": 13
        }, 
        {
            "source": "**clean and refine the data**", 
            "cell_type": "markdown", 
            "metadata": {}
        }, 
        {
            "source": "#\n#groupby PostalCode, keep the first Borough and join() Neighborhoods\ndf = df.groupby('PostalCode').agg(\n    {\n        'Borough':'first', \n        'Neighborhood': ', '.join,}\n    ).reset_index()", 
            "cell_type": "code", 
            "metadata": {}, 
            "outputs": [], 
            "execution_count": 20
        }, 
        {
            "source": "as per instruction, we will use the *.shape* method to print the number of rows of the dataframe", 
            "cell_type": "markdown", 
            "metadata": {}
        }, 
        {
            "source": "df.shape", 
            "cell_type": "code", 
            "metadata": {}, 
            "outputs": [
                {
                    "output_type": "execute_result", 
                    "data": {
                        "text/plain": "(103, 3)"
                    }, 
                    "execution_count": 28, 
                    "metadata": {}
                }
            ], 
            "execution_count": 28
        }, 
        {
            "source": "", 
            "cell_type": "code", 
            "metadata": {}, 
            "outputs": [], 
            "execution_count": null
        }
    ], 
    "metadata": {
        "kernelspec": {
            "display_name": "Python 3.5", 
            "name": "python3", 
            "language": "python"
        }, 
        "language_info": {
            "mimetype": "text/x-python", 
            "nbconvert_exporter": "python", 
            "version": "3.5.5", 
            "name": "python", 
            "pygments_lexer": "ipython3", 
            "file_extension": ".py", 
            "codemirror_mode": {
                "version": 3, 
                "name": "ipython"
            }
        }
    }, 
    "nbformat": 4
}